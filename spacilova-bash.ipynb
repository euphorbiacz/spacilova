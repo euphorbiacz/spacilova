{
 "cells": [
  {
   "cell_type": "code",
   "execution_count": 1,
   "metadata": {},
   "outputs": [],
   "source": [
    "# original: @kokes\n",
    "rm hodnoceni.txt\n",
    "for i in $(seq 1 42); do\n",
    "    curl -s $i https://kultura.zpravy.idnes.cz/recenze-mirky-spacilove.aspx?strana=$i | grep -a \"span class=\\\"rating\\\"\" | cut -d'>' -f2 | cut -d' ' -f1 >> hodnoceni.txt\n",
    "done"
   ]
  },
  {
   "cell_type": "code",
   "execution_count": 2,
   "metadata": {},
   "outputs": [
    {
     "name": "stdout",
     "output_type": "stream",
     "text": [
      "      1 0\n",
      "      2 5\n",
      "      9 10\n",
      "      5 15\n",
      "     11 20\n",
      "     13 25\n",
      "     37 30\n",
      "     26 35\n",
      "    105 40\n",
      "     42 45\n",
      "    269 50\n",
      "    147 55\n",
      "    331 60\n",
      "    163 65\n",
      "    210 70\n",
      "     56 75\n",
      "     62 80\n",
      "      4 85\n",
      "      2 90\n"
     ]
    }
   ],
   "source": [
    "sort -n hodnoceni.txt | uniq -c"
   ]
  },
  {
   "cell_type": "code",
   "execution_count": 3,
   "metadata": {},
   "outputs": [
    {
     "name": "stdout",
     "output_type": "stream",
     "text": [
      "# NumSamples = 1495; Min = 0.00; Max = 100.00\n",
      "# Mean = 56.989967; Variance = 174.317625; SD = 13.202940; Median 60.000000\n",
      "# each ∎ represents a count of 6\n",
      "    0.0000 -    10.0000 [    12]: ∎∎ (0.80%)\n",
      "   10.0000 -    20.0000 [    16]: ∎∎ (1.07%)\n",
      "   20.0000 -    30.0000 [    50]: ∎∎∎∎∎∎∎∎ (3.34%)\n",
      "   30.0000 -    40.0000 [   131]: ∎∎∎∎∎∎∎∎∎∎∎∎∎∎∎∎∎∎∎∎∎ (8.76%)\n",
      "   40.0000 -    50.0000 [   311]: ∎∎∎∎∎∎∎∎∎∎∎∎∎∎∎∎∎∎∎∎∎∎∎∎∎∎∎∎∎∎∎∎∎∎∎∎∎∎∎∎∎∎∎∎∎∎∎∎∎∎∎ (20.80%)\n",
      "   50.0000 -    60.0000 [   478]: ∎∎∎∎∎∎∎∎∎∎∎∎∎∎∎∎∎∎∎∎∎∎∎∎∎∎∎∎∎∎∎∎∎∎∎∎∎∎∎∎∎∎∎∎∎∎∎∎∎∎∎∎∎∎∎∎∎∎∎∎∎∎∎∎∎∎∎∎∎∎∎∎∎∎∎∎∎∎∎ (31.97%)\n",
      "   60.0000 -    70.0000 [   373]: ∎∎∎∎∎∎∎∎∎∎∎∎∎∎∎∎∎∎∎∎∎∎∎∎∎∎∎∎∎∎∎∎∎∎∎∎∎∎∎∎∎∎∎∎∎∎∎∎∎∎∎∎∎∎∎∎∎∎∎∎∎∎ (24.95%)\n",
      "   70.0000 -    80.0000 [   118]: ∎∎∎∎∎∎∎∎∎∎∎∎∎∎∎∎∎∎∎ (7.89%)\n",
      "   80.0000 -    90.0000 [     6]: ∎ (0.40%)\n",
      "   90.0000 -   100.0000 [     0]:  (0.00%)\n"
     ]
    }
   ],
   "source": [
    "cat hodnoceni.txt | histogram.py --percentage --min=0 --max=100"
   ]
  },
  {
   "cell_type": "code",
   "execution_count": null,
   "metadata": {},
   "outputs": [],
   "source": []
  }
 ],
 "metadata": {
  "kernelspec": {
   "display_name": "Bash",
   "language": "bash",
   "name": "bash"
  },
  "language_info": {
   "codemirror_mode": "shell",
   "file_extension": ".sh",
   "mimetype": "text/x-sh",
   "name": "bash"
  }
 },
 "nbformat": 4,
 "nbformat_minor": 2
}
