{
 "cells": [
  {
   "cell_type": "code",
   "execution_count": 1,
   "metadata": {},
   "outputs": [],
   "source": [
    "# load packages\n",
    "import pandas as pd\n",
    "import requests\n",
    "import seaborn as sns\n",
    "from bs4 import BeautifulSoup\n",
    "\n",
    "# set basic variables\n",
    "tmp_reviews = [] # temporary list of dicts\n",
    "page = \"https://kultura.zpravy.idnes.cz/recenze-mirky-spacilove.aspx\" #starting page\n",
    "\n",
    "# go to web and get all pages with links to reviews\n",
    "while page:\n",
    "    # get every page\n",
    "    #print(\"Working on %s\" % page)\n",
    "    page_html = BeautifulSoup(requests.get(page).text, \"html.parser\")\n",
    "    \n",
    "    #parse data for every element .rec-box\n",
    "    for element in page_html.find_all(\"\",\"rec-box\"):\n",
    "        #split header - rating % name\n",
    "        tmp = element.getText().split(\"%\",1)\n",
    "        row = {\"film\": tmp[1].strip(), \"rating\": int(tmp[0].strip())}\n",
    "        #get next art element and extract url\n",
    "        row[\"url\"] = element.find_next_sibling(\"\",\"art\").find(\"a\").get(\"href\")\n",
    "        tmp_reviews.append(row)\n",
    "        \n",
    "    #try to find link to the next page\n",
    "    try:\n",
    "        page = page_html.find(\"td\",\"tar\").find(\"a\",\"ico-right\").get(\"href\")\n",
    "    except AttributeError:\n",
    "        page = None\n",
    "\n",
    "# make data frame\n",
    "reviews = pd.DataFrame(tmp_reviews)\n"
   ]
  },
  {
   "cell_type": "code",
   "execution_count": 2,
   "metadata": {},
   "outputs": [
    {
     "data": {
      "text/plain": [
       "<matplotlib.axes._subplots.AxesSubplot at 0x7ff5f421f898>"
      ]
     },
     "execution_count": 2,
     "metadata": {},
     "output_type": "execute_result"
    },
    {
     "data": {
      "image/png": "[encoded data removed]",
      "text/plain": [
       "<Figure size 432x288 with 1 Axes>"
      ]
     },
     "metadata": {},
     "output_type": "display_data"
    }
   ],
   "source": [
    "# create basic histogram\n",
    "# the same as: sns.distplot(reviews.rating, bins=10, kde=False, hist=True)\n",
    "reviews.plot.hist()"
   ]
  },
  {
   "cell_type": "code",
   "execution_count": 3,
   "metadata": {},
   "outputs": [],
   "source": [
    "#write CSV\n",
    "reviews.to_csv(\"reviews.csv\", index=False, encoding=\"utf-8\")"
   ]
  },
  {
   "cell_type": "code",
   "execution_count": 4,
   "metadata": {},
   "outputs": [
    {
     "data": {
      "text/plain": [
       "0       1\n",
       "5       2\n",
       "10      9\n",
       "15      5\n",
       "20     11\n",
       "25     13\n",
       "30     37\n",
       "35     26\n",
       "40    105\n",
       "45     42\n",
       "50    269\n",
       "55    147\n",
       "60    330\n",
       "65    163\n",
       "70    210\n",
       "75     56\n",
       "80     62\n",
       "85      4\n",
       "90      2\n",
       "Name: rating, dtype: int64"
      ]
     },
     "execution_count": 4,
     "metadata": {},
     "output_type": "execute_result"
    }
   ],
   "source": [
    "reviews.rating.value_counts(sort=False)"
   ]
  },
  {
   "cell_type": "code",
   "execution_count": 5,
   "metadata": {},
   "outputs": [
    {
     "data": {
      "text/html": [
       "<div>\n",
       "<style scoped>\n",
       "    .dataframe tbody tr th:only-of-type {\n",
       "        vertical-align: middle;\n",
       "    }\n",
       "\n",
       "    .dataframe tbody tr th {\n",
       "        vertical-align: top;\n",
       "    }\n",
       "\n",
       "    .dataframe thead th {\n",
       "        text-align: right;\n",
       "    }\n",
       "</style>\n",
       "<table border=\"1\" class=\"dataframe\">\n",
       "  <thead>\n",
       "    <tr style=\"text-align: right;\">\n",
       "      <th></th>\n",
       "      <th>rating</th>\n",
       "    </tr>\n",
       "  </thead>\n",
       "  <tbody>\n",
       "    <tr>\n",
       "      <th>count</th>\n",
       "      <td>1494.000000</td>\n",
       "    </tr>\n",
       "    <tr>\n",
       "      <th>mean</th>\n",
       "      <td>56.987952</td>\n",
       "    </tr>\n",
       "    <tr>\n",
       "      <th>std</th>\n",
       "      <td>13.211550</td>\n",
       "    </tr>\n",
       "    <tr>\n",
       "      <th>min</th>\n",
       "      <td>0.000000</td>\n",
       "    </tr>\n",
       "    <tr>\n",
       "      <th>25%</th>\n",
       "      <td>50.000000</td>\n",
       "    </tr>\n",
       "    <tr>\n",
       "      <th>50%</th>\n",
       "      <td>60.000000</td>\n",
       "    </tr>\n",
       "    <tr>\n",
       "      <th>75%</th>\n",
       "      <td>65.000000</td>\n",
       "    </tr>\n",
       "    <tr>\n",
       "      <th>max</th>\n",
       "      <td>90.000000</td>\n",
       "    </tr>\n",
       "  </tbody>\n",
       "</table>\n",
       "</div>"
      ],
      "text/plain": [
       "            rating\n",
       "count  1494.000000\n",
       "mean     56.987952\n",
       "std      13.211550\n",
       "min       0.000000\n",
       "25%      50.000000\n",
       "50%      60.000000\n",
       "75%      65.000000\n",
       "max      90.000000"
      ]
     },
     "execution_count": 5,
     "metadata": {},
     "output_type": "execute_result"
    }
   ],
   "source": [
    "reviews.describe()"
   ]
  },
  {
   "cell_type": "code",
   "execution_count": null,
   "metadata": {},
   "outputs": [],
   "source": []
  }
 ],
 "metadata": {
  "kernelspec": {
   "display_name": "Python 3",
   "language": "python",
   "name": "python3"
  },
  "language_info": {
   "codemirror_mode": {
    "name": "ipython",
    "version": 3
   },
   "file_extension": ".py",
   "mimetype": "text/x-python",
   "name": "python",
   "nbconvert_exporter": "python",
   "pygments_lexer": "ipython3",
   "version": "3.6.4"
  }
 },
 "nbformat": 4,
 "nbformat_minor": 2
}
