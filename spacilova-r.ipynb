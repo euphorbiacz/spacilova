{
 "cells": [
  {
   "cell_type": "code",
   "execution_count": 2,
   "metadata": {},
   "outputs": [
    {
     "name": "stdout",
     "output_type": "stream",
     "text": [
      "[1] \"Page ready: 1\"\n",
      "[1] \"Page ready: 2\"\n",
      "[1] \"Page ready: 3\"\n",
      "[1] \"Page ready: 4\"\n",
      "[1] \"Page ready: 5\"\n",
      "[1] \"Page ready: 6\"\n",
      "[1] \"Page ready: 7\"\n",
      "[1] \"Page ready: 8\"\n",
      "[1] \"Page ready: 9\"\n",
      "[1] \"Page ready: 10\"\n",
      "[1] \"Page ready: 11\"\n",
      "[1] \"Page ready: 12\"\n",
      "[1] \"Page ready: 13\"\n",
      "[1] \"Page ready: 14\"\n",
      "[1] \"Page ready: 15\"\n",
      "[1] \"Page ready: 16\"\n",
      "[1] \"Page ready: 17\"\n",
      "[1] \"Page ready: 18\"\n",
      "[1] \"Page ready: 19\"\n",
      "[1] \"Page ready: 20\"\n",
      "[1] \"Page ready: 21\"\n",
      "[1] \"Page ready: 22\"\n",
      "[1] \"Page ready: 23\"\n",
      "[1] \"Page ready: 24\"\n",
      "[1] \"Page ready: 25\"\n",
      "[1] \"Page ready: 26\"\n",
      "[1] \"Page ready: 27\"\n",
      "[1] \"Page ready: 28\"\n",
      "[1] \"Page ready: 29\"\n",
      "[1] \"Page ready: 30\"\n",
      "[1] \"Page ready: 31\"\n",
      "[1] \"Page ready: 32\"\n",
      "[1] \"Page ready: 33\"\n",
      "[1] \"Page ready: 34\"\n",
      "[1] \"Page ready: 35\"\n",
      "[1] \"Page ready: 36\"\n",
      "[1] \"Page ready: 37\"\n",
      "[1] \"Page ready: 38\"\n",
      "[1] \"Page ready: 39\"\n",
      "[1] \"Page ready: 40\"\n",
      "[1] \"Page ready: 41\"\n",
      "[1] \"Page ready: 42\"\n"
     ]
    }
   ],
   "source": [
    "# original: Petr Kajzar\n",
    "#https://blog.root.cz/ehealth-v-cr/jak-je-to-s-tou-mirkou-spacilovou-a-jejimi-60/\n",
    "\n",
    "# load packages\n",
    "library(tidyverse)  # data cleaning\n",
    "library(rvest)      # web crawler\n",
    "# set basic variables\n",
    "max.pages <- 42         # number of pages\n",
    "filmnames <- NULL       # vector of film names\n",
    "filmratings <- NULL     # vector of film ratings\n",
    "filmurl <- NULL         # vector of film reviews urls\n",
    "\n",
    "# go to web and get all 42 pages with links to reviews\n",
    "for(i in 1:max.pages) {\n",
    "\n",
    "  # get every page\n",
    "  page <- paste(\"https://kultura.zpravy.idnes.cz/recenze-mirky-spacilove.aspx?strana=\", i, sep=\"\")\n",
    "  page.html <- read_html(page)\n",
    "\n",
    "  # film names\n",
    "\n",
    "  # ......... find names of films\n",
    "  tmp.filmnames <- page.html %>%\n",
    "    html_nodes(css = \".rec-box\") %>%\n",
    "    html_text(trim = TRUE)\n",
    "\n",
    "  # ......... delete rating from the film name\n",
    "  tmp.filmnames <- gsub(\"[[:digit:]]{1,3}[[:blank:]]%[[:blank:]]\", \"\", tmp.filmnames)\n",
    "\n",
    "  # film ratings\n",
    "\n",
    "  # ......... find film ratings\n",
    "  tmp.filmratings <- page.html %>%\n",
    "    html_nodes(css = \".rating\") %>%\n",
    "    html_text(trim = TRUE)\n",
    "\n",
    "  # ......... and make them numeric\n",
    "  tmp.filmratings <- gsub(\"[[:blank:]]%\", \"\", tmp.filmratings) %>%\n",
    "    as.numeric()\n",
    "\n",
    "  # film reviews url\n",
    "  tmp.filmurl <- page.html %>%\n",
    "    html_nodes(css =\".art>a\") %>%\n",
    "    html_attr(\"href\")\n",
    "\n",
    "  # save the results\n",
    "  filmnames <- c(filmnames, tmp.filmnames)\n",
    "  filmratings <- c(filmratings, tmp.filmratings)\n",
    "  filmurl <- c(filmurl, tmp.filmurl)\n",
    "\n",
    "  # print some info\n",
    "  print(paste(\"Page ready:\", i))\n",
    "\n",
    "}"
   ]
  },
  {
   "cell_type": "code",
   "execution_count": 3,
   "metadata": {},
   "outputs": [
    {
     "data": {
      "image/png": "[encoded data removed]",
      "text/plain": [
       "Plot with title “Jak hodnotí Mirka Spáčilová”"
      ]
     },
     "metadata": {},
     "output_type": "display_data",
     "source": "R display func"
    }
   ],
   "source": [
    "# make data frame\n",
    "reviews <- data.frame(film   = filmnames,\n",
    "                      rating = filmratings,\n",
    "                      url    = filmurl)\n",
    "\n",
    "# create basic histogram\n",
    "hist(reviews$rating,\n",
    "     main   = \"Jak hodnotí Mirka Spáčilová\",\n",
    "     xlab   = \"Hodnocení filmu (v %)\",\n",
    "     ylab   = \"Četnost\",\n",
    "     labels = TRUE)"
   ]
  },
  {
   "cell_type": "code",
   "execution_count": 4,
   "metadata": {},
   "outputs": [],
   "source": [
    "# write CSV\n",
    "write.csv(reviews, \"reviews.csv\",\n",
    "          row.names    = FALSE,\n",
    "          fileEncoding = \"UTF-8\")"
   ]
  },
  {
   "cell_type": "code",
   "execution_count": 5,
   "metadata": {},
   "outputs": [
    {
     "data": {
      "text/plain": [
       "\n",
       "  0   5  10  15  20  25  30  35  40  45  50  55  60  65  70  75  80  85  90 \n",
       "  1   2   9   5  11  13  37  26 105  42 269 147 331 163 210  56  62   4   2 "
      ]
     },
     "metadata": {},
     "output_type": "display_data"
    }
   ],
   "source": [
    "table(reviews$rating)"
   ]
  },
  {
   "cell_type": "code",
   "execution_count": 6,
   "metadata": {},
   "outputs": [
    {
     "data": {
      "text/plain": [
       "   Min. 1st Qu.  Median    Mean 3rd Qu.    Max. \n",
       "   0.00   50.00   60.00   56.99   65.00   90.00 "
      ]
     },
     "metadata": {},
     "output_type": "display_data"
    }
   ],
   "source": [
    "summary(reviews$rating)"
   ]
  },
  {
   "cell_type": "code",
   "execution_count": null,
   "metadata": {},
   "outputs": [],
   "source": []
  }
 ],
 "metadata": {
  "kernelspec": {
   "display_name": "R",
   "language": "R",
   "name": "ir"
  },
  "language_info": {
   "codemirror_mode": "r",
   "file_extension": ".r",
   "mimetype": "text/x-r-source",
   "name": "R",
   "pygments_lexer": "r",
   "version": "3.4.1"
  }
 },
 "nbformat": 4,
 "nbformat_minor": 2
}
